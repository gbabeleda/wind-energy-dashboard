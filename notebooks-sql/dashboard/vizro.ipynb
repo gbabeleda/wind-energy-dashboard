{
 "cells": [
  {
   "cell_type": "code",
   "execution_count": 10,
   "metadata": {},
   "outputs": [],
   "source": [
    "from vizro import Vizro\n",
    "import vizro.models as vm\n",
    "import vizro.plotly.express as px\n",
    "import pandas as pd\n",
    "import psycopg2\n",
    "from sqlalchemy import create_engine"
   ]
  },
  {
   "cell_type": "code",
   "execution_count": 8,
   "metadata": {},
   "outputs": [],
   "source": [
    "# This works but gets a warning message\n",
    "# Pandas officially supports using a sqlalchemy engine/connection or a \n",
    "# database URI string for its read_sql_query method\n",
    "\n",
    "# def data_availability_to_df(dbname : str = \"wind_energy\",\n",
    "#                            user : str = \"postgres\",\n",
    "#                            password : str = \"postgres\",\n",
    "#                            host : str = \"localhost\",\n",
    "#                            schema : str = \"wind_sites\",\n",
    "#                            view : str = \"data_availability\") -> pd.DataFrame:\n",
    "#     parameters = {\n",
    "#         \"dbname\" : dbname,\n",
    "#         \"user\" : user,\n",
    "#         \"password\" : password,\n",
    "#         \"host\" : host\n",
    "#     }\n",
    "    \n",
    "#     query = f\"SELECT * FROM {schema}.{view}\"\n",
    "    \n",
    "#     with psycopg2.connect(**parameters) as connection:\n",
    "#        df = pd.read_sql_query(query,connection)\n",
    "            \n",
    "            \n",
    "#     return df\n",
    "            "
   ]
  },
  {
   "cell_type": "code",
   "execution_count": 12,
   "metadata": {},
   "outputs": [],
   "source": [
    "def postgres_to_dataframe(view : str, dbname : str = \"wind_energy\",\n",
    "                        user : str = \"postgres\", password : str = \"postgres\",\n",
    "                        host : str = \"localhost\", schema : str = \"wind_sites\",\n",
    "                        ) -> pd.DataFrame:\n",
    "    \n",
    "    connection_string = f\"postgresql://{user}:{password}@{host}/{dbname}\"\n",
    "    \n",
    "    engine = create_engine(url=connection_string)\n",
    "    \n",
    "    query = f\"SELECT * FROM {schema}.{view};\"\n",
    "    \n",
    "    try: \n",
    "        df = pd.read_sql_query(sql=query,con=engine)\n",
    "        return df\n",
    "    \n",
    "    except Exception as e:\n",
    "        raise e\n",
    "\n",
    "    finally:\n",
    "        engine.dispose()\n",
    "    "
   ]
  },
  {
   "cell_type": "code",
   "execution_count": 13,
   "metadata": {},
   "outputs": [],
   "source": [
    "data_availability = postgres_to_dataframe(view=\"data_availability\")"
   ]
  },
  {
   "cell_type": "code",
   "execution_count": 14,
   "metadata": {},
   "outputs": [],
   "source": [
    "diurnal_variation = postgres_to_dataframe(view=\"diurnal_variation\")"
   ]
  },
  {
   "cell_type": "code",
   "execution_count": 15,
   "metadata": {},
   "outputs": [],
   "source": [
    "frequency_distribution = postgres_to_dataframe(view=\"frequency_distribution\")"
   ]
  },
  {
   "cell_type": "code",
   "execution_count": 16,
   "metadata": {},
   "outputs": [],
   "source": [
    "wind_rose_data = postgres_to_dataframe(view=\"cumulative_frequency_cardinal_directions\")"
   ]
  },
  {
   "cell_type": "code",
   "execution_count": null,
   "metadata": {},
   "outputs": [],
   "source": [
    "\n",
    "\n",
    "\n",
    "first_page = vm.Page(\n",
    "    title=\"Wind Energy Resource Assessment Dashboard\",\n",
    "    components = [\n",
    "        vm.Card(\n",
    "           text=\"\"\"\n",
    "                # Wind Energy Resource Assessment Dashboard\n",
    "                \n",
    "                This dashboard allows \n",
    "           \n",
    "                \"\"\" \n",
    "        ),\n",
    "        vm.Graph(\n",
    "            id=\"Data Availability\",\n",
    "            figure=px.bar(\n",
    "                data_frame=data_availability\",\n",
    "                y=\"month\",\n",
    "                x=\"days_count\",\n",
    "                color=\"days_count\",\n",
    "                text=\"days_counted\"\n",
    "            )\n",
    "        ),\n",
    "        vm.Graph(\n",
    "            id=\"Diurnal Variation\",\n",
    "            figure=px.scatter(\n",
    "                \n",
    "            )\n",
    "            \n",
    "        )\n",
    "    ],\n",
    "    controls=[\n",
    "        vm.Filter(\n",
    "            column=\"\",\n",
    "            selector=vm.RangeSlider(value=)\n",
    "            )\n",
    "    ]\n",
    "    \n",
    "    \n",
    "    \n",
    ")\n",
    "\n",
    "\n",
    "dashboard = vm.Dashboard(pages=[first_page])\n",
    "Vizro().build(dashboard).run()"
   ]
  }
 ],
 "metadata": {
  "kernelspec": {
   "display_name": "virtual_environment",
   "language": "python",
   "name": "python3"
  },
  "language_info": {
   "codemirror_mode": {
    "name": "ipython",
    "version": 3
   },
   "file_extension": ".py",
   "mimetype": "text/x-python",
   "name": "python",
   "nbconvert_exporter": "python",
   "pygments_lexer": "ipython3",
   "version": "3.12.0"
  }
 },
 "nbformat": 4,
 "nbformat_minor": 2
}
