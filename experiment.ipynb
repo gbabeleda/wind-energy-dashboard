{
 "cells": [
  {
   "cell_type": "code",
   "execution_count": 11,
   "metadata": {},
   "outputs": [],
   "source": [
    "from vizro import Vizro; Vizro._reset()\n",
    "import vizro.models as vm\n",
    "import vizro.plotly.express as px\n",
    "from modules.postgres_to_dataframe import postgres_to_dataframe\n",
    "import plotly.graph_objects as go"
   ]
  },
  {
   "cell_type": "code",
   "execution_count": 14,
   "metadata": {},
   "outputs": [],
   "source": [
    "experiment = postgres_to_dataframe(\"non_cumulative_wr\")"
   ]
  },
  {
   "cell_type": "code",
   "execution_count": 18,
   "metadata": {},
   "outputs": [
    {
     "data": {
      "text/html": [
       "\n",
       "        <iframe\n",
       "            width=\"100%\"\n",
       "            height=\"650\"\n",
       "            src=\"http://127.0.0.1:6426/\"\n",
       "            frameborder=\"0\"\n",
       "            allowfullscreen\n",
       "            \n",
       "        ></iframe>\n",
       "        "
      ],
      "text/plain": [
       "<IPython.lib.display.IFrame at 0x16937a060>"
      ]
     },
     "metadata": {},
     "output_type": "display_data"
    },
    {
     "ename": "",
     "evalue": "",
     "output_type": "error",
     "traceback": [
      "\u001b[1;31mThe Kernel crashed while executing code in the the current cell or a previous cell. Please review the code in the cell(s) to identify a possible cause of the failure. Click <a href='https://aka.ms/vscodeJupyterKernelCrash'>here</a> for more info. View Jupyter <a href='command:jupyter.viewOutput'>log</a> for further details."
     ]
    }
   ],
   "source": [
    "Vizro._reset()\n",
    "\n",
    "page = vm.Page(\n",
    "    title=\"experiment\",\n",
    "    components=[\n",
    "        vm.Graph(\n",
    "            id=\"hotdog\",\n",
    "            figure=px.bar_polar(\n",
    "                data_frame=experiment,\n",
    "                r=\"percent_frequency\",\n",
    "                theta=\"cardinal_direction\",\n",
    "                color=\"speed_bin\",\n",
    "                barmode=\"overlay\"\n",
    "            )\n",
    "        )\n",
    "    ],\n",
    "    controls=[\n",
    "        vm.Filter(\n",
    "            column=\"year\",\n",
    "            targets=[\"hotdog\"],\n",
    "            selector=vm.RadioItems()\n",
    "        ),\n",
    "        vm.Filter(\n",
    "            column=\"month\",\n",
    "            targets=[\"hotdog\"],\n",
    "            selector=vm.Slider(step=1)\n",
    "        ),\n",
    "        vm.Filter(\n",
    "            column=\"day\",\n",
    "            targets=[\"hotdog\"],\n",
    "            selector=vm.RadioItems()\n",
    "        )\n",
    "    ]\n",
    ")\n",
    "\n",
    "dashboard2 = vm.Dashboard(pages=[page])\n",
    "\n",
    "Vizro().build(dashboard=dashboard2).run(port='6426')"
   ]
  }
 ],
 "metadata": {
  "kernelspec": {
   "display_name": "wind_dashboard",
   "language": "python",
   "name": "python3"
  },
  "language_info": {
   "codemirror_mode": {
    "name": "ipython",
    "version": 3
   },
   "file_extension": ".py",
   "mimetype": "text/x-python",
   "name": "python",
   "nbconvert_exporter": "python",
   "pygments_lexer": "ipython3",
   "version": "3.12.0"
  }
 },
 "nbformat": 4,
 "nbformat_minor": 2
}
