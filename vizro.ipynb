{
 "cells": [
  {
   "cell_type": "code",
   "execution_count": 9,
   "metadata": {},
   "outputs": [],
   "source": [
    "from vizro import Vizro; Vizro._reset()\n",
    "import vizro.models as vm\n",
    "import vizro.plotly.express as px\n",
    "import pandas as pd\n",
    "import psycopg2\n",
    "from sqlalchemy import create_engine\n",
    "from modules.postgres_to_dataframe import postgres_to_dataframe"
   ]
  },
  {
   "cell_type": "code",
   "execution_count": 10,
   "metadata": {},
   "outputs": [],
   "source": [
    "data_availability = postgres_to_dataframe(view=\"data_availability\")"
   ]
  },
  {
   "cell_type": "code",
   "execution_count": 11,
   "metadata": {},
   "outputs": [],
   "source": [
    "diurnal_variation = postgres_to_dataframe(view=\"diurnal_variation\")"
   ]
  },
  {
   "cell_type": "code",
   "execution_count": 12,
   "metadata": {},
   "outputs": [],
   "source": [
    "frequency_distribution = postgres_to_dataframe(view=\"frequency_distribution\")"
   ]
  },
  {
   "cell_type": "code",
   "execution_count": 13,
   "metadata": {},
   "outputs": [],
   "source": [
    "wind_rose_data = postgres_to_dataframe(view=\"cumulative_frequency_cardinal_directions\")"
   ]
  },
  {
   "cell_type": "code",
   "execution_count": 14,
   "metadata": {},
   "outputs": [
    {
     "data": {
      "text/html": [
       "\n",
       "        <iframe\n",
       "            width=\"100%\"\n",
       "            height=\"650\"\n",
       "            src=\"http://127.0.0.1:8050/\"\n",
       "            frameborder=\"0\"\n",
       "            allowfullscreen\n",
       "            \n",
       "        ></iframe>\n",
       "        "
      ],
      "text/plain": [
       "<IPython.lib.display.IFrame at 0x157d32f30>"
      ]
     },
     "metadata": {},
     "output_type": "display_data"
    }
   ],
   "source": [
    "data_availability_page = vm.Page(\n",
    "    title=\"Wind Energy Resource Assessment\",\n",
    "    components=[\n",
    "        vm.Graph(\n",
    "            id=\"Data Availability\",\n",
    "            figure=px.bar(\n",
    "                data_availability,\n",
    "                y=\"year_month\",\n",
    "                x=\"days_count\",\n",
    "                color=\"days_count\",\n",
    "                text=\"days_count\",\n",
    "                title=\"Days with available Wind Data per Month\",\n",
    "                labels={\"year_month\" : \"Months\", \"days_count\" : \"Days with data\"}    \n",
    "            )\n",
    "        )\n",
    "    ]\n",
    ")\n",
    "\n",
    "diurnal_variation_page = vm.Page(\n",
    "    title=\"Diurnal Variation \"\n",
    ")\n",
    "\n",
    "dashboard = vm.Dashboard(pages=[data_availability_page,])\n",
    "\n",
    "Vizro().build(dashboard=dashboard).run()"
   ]
  }
 ],
 "metadata": {
  "kernelspec": {
   "display_name": "virtual_environment",
   "language": "python",
   "name": "python3"
  },
  "language_info": {
   "codemirror_mode": {
    "name": "ipython",
    "version": 3
   },
   "file_extension": ".py",
   "mimetype": "text/x-python",
   "name": "python",
   "nbconvert_exporter": "python",
   "pygments_lexer": "ipython3",
   "version": "3.12.0"
  }
 },
 "nbformat": 4,
 "nbformat_minor": 2
}
